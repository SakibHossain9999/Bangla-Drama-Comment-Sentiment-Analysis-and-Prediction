{
 "cells": [
  {
   "cell_type": "code",
   "execution_count": 1,
   "metadata": {},
   "outputs": [],
   "source": [
    "# import modules\n",
    "\n",
    "import pandas as pd\n",
    "import numpy as np\n",
    "import seaborn as sns\n",
    "import matplotlib.pyplot as plt\n",
    "import nltk\n",
    "from nltk.tokenize import word_tokenize\n",
    "from nltk.stem import PorterStemmer\n",
    "from sklearn.preprocessing import LabelEncoder\n",
    "from sklearn.feature_extraction.text import CountVectorizer\n",
    "from sklearn.feature_extraction.text import TfidfVectorizer\n",
    "from nltk.corpus import stopwords\n",
    "from nltk.tokenize import word_tokenize\n",
    "from sklearn.model_selection import train_test_split\n",
    "from sklearn.naive_bayes import MultinomialNB\n",
    "from sklearn.linear_model import PassiveAggressiveClassifier\n",
    "from sklearn.linear_model import LogisticRegression\n",
    "from sklearn.svm import LinearSVC as svc\n",
    "import joblib\n",
    "from sklearn.metrics import accuracy_score, confusion_matrix, classification_report\n"
   ]
  },
  {
   "cell_type": "code",
   "execution_count": 2,
   "metadata": {},
   "outputs": [
    {
     "name": "stdout",
     "output_type": "stream",
     "text": [
      "Number of dramas: 7698\n",
      "Most frequently mentioned dramas:\n",
      "অসাধারণ নাটক         57\n",
      "অসাধারণ              53\n",
      "এক কথায় অসাধারণ      38\n",
      "অসাধারণ একটা নাটক    31\n",
      "অসাধারন নাটক         27\n",
      "Name: text, dtype: int64\n"
     ]
    }
   ],
   "source": [
    "\n",
    "\n",
    "# Read the text file into a list of lines\n",
    "with open(\"all_positive_8500.txt\", encoding=\"utf-8\") as f:\n",
    "    lines = f.readlines()\n",
    "\n",
    "# Create a DataFrame from the list of lines\n",
    "positive_df = pd.DataFrame(lines, columns=[\"text\"])\n",
    "\n",
    "# Remove leading and trailing whitespace from each line\n",
    "positive_df[\"text\"] = positive_df[\"text\"].str.strip()\n",
    "\n",
    "\n",
    "# 1. Counting the number of dramas\n",
    "number_of_dramas = positive_df[\"text\"].nunique()\n",
    "print(\"Number of dramas:\", number_of_dramas)\n",
    "\n",
    "\n",
    "\n",
    "# 2. Identifying the most frequently mentioned dramas\n",
    "drama_counts = positive_df[\"text\"].value_counts()\n",
    "print(\"Most frequently mentioned dramas:\")\n",
    "print(drama_counts.head())\n"
   ]
  },
  {
   "cell_type": "code",
   "execution_count": 3,
   "metadata": {},
   "outputs": [
    {
     "data": {
      "text/html": [
       "<div>\n",
       "<style scoped>\n",
       "    .dataframe tbody tr th:only-of-type {\n",
       "        vertical-align: middle;\n",
       "    }\n",
       "\n",
       "    .dataframe tbody tr th {\n",
       "        vertical-align: top;\n",
       "    }\n",
       "\n",
       "    .dataframe thead th {\n",
       "        text-align: right;\n",
       "    }\n",
       "</style>\n",
       "<table border=\"1\" class=\"dataframe\">\n",
       "  <thead>\n",
       "    <tr style=\"text-align: right;\">\n",
       "      <th></th>\n",
       "      <th>text</th>\n",
       "    </tr>\n",
       "  </thead>\n",
       "  <tbody>\n",
       "    <tr>\n",
       "      <th>0</th>\n",
       "      <td>অসাধারণ নিশো বস্ আর অমি ভাইকেও।</td>\n",
       "    </tr>\n",
       "    <tr>\n",
       "      <th>1</th>\n",
       "      <td>আমার দেখা বেস্ট নাটক</td>\n",
       "    </tr>\n",
       "    <tr>\n",
       "      <th>2</th>\n",
       "      <td>নাটক টা অনেক সুন্দর হয়েছে,,,,আফরান নিশো ভাইয়...</td>\n",
       "    </tr>\n",
       "    <tr>\n",
       "      <th>3</th>\n",
       "      <td>সত্যি অসাধারণ একটি রিলেশন</td>\n",
       "    </tr>\n",
       "    <tr>\n",
       "      <th>4</th>\n",
       "      <td>মজা পাইছি ভাষা গুলো কেমন লাগলো</td>\n",
       "    </tr>\n",
       "  </tbody>\n",
       "</table>\n",
       "</div>"
      ],
      "text/plain": [
       "                                                text\n",
       "0                    অসাধারণ নিশো বস্ আর অমি ভাইকেও।\n",
       "1                               আমার দেখা বেস্ট নাটক\n",
       "2  নাটক টা অনেক সুন্দর হয়েছে,,,,আফরান নিশো ভাইয়...\n",
       "3                          সত্যি অসাধারণ একটি রিলেশন\n",
       "4                     মজা পাইছি ভাষা গুলো কেমন লাগলো"
      ]
     },
     "execution_count": 3,
     "metadata": {},
     "output_type": "execute_result"
    }
   ],
   "source": [
    "positive_df.head()"
   ]
  },
  {
   "cell_type": "code",
   "execution_count": 4,
   "metadata": {},
   "outputs": [
    {
     "data": {
      "text/html": [
       "<div>\n",
       "<style scoped>\n",
       "    .dataframe tbody tr th:only-of-type {\n",
       "        vertical-align: middle;\n",
       "    }\n",
       "\n",
       "    .dataframe tbody tr th {\n",
       "        vertical-align: top;\n",
       "    }\n",
       "\n",
       "    .dataframe thead th {\n",
       "        text-align: right;\n",
       "    }\n",
       "</style>\n",
       "<table border=\"1\" class=\"dataframe\">\n",
       "  <thead>\n",
       "    <tr style=\"text-align: right;\">\n",
       "      <th></th>\n",
       "      <th>text</th>\n",
       "      <th>label</th>\n",
       "    </tr>\n",
       "  </thead>\n",
       "  <tbody>\n",
       "    <tr>\n",
       "      <th>0</th>\n",
       "      <td>অসাধারণ নিশো বস্ আর অমি ভাইকেও।</td>\n",
       "      <td>positive</td>\n",
       "    </tr>\n",
       "    <tr>\n",
       "      <th>1</th>\n",
       "      <td>আমার দেখা বেস্ট নাটক</td>\n",
       "      <td>positive</td>\n",
       "    </tr>\n",
       "    <tr>\n",
       "      <th>2</th>\n",
       "      <td>নাটক টা অনেক সুন্দর হয়েছে,,,,আফরান নিশো ভাইয়...</td>\n",
       "      <td>positive</td>\n",
       "    </tr>\n",
       "    <tr>\n",
       "      <th>3</th>\n",
       "      <td>সত্যি অসাধারণ একটি রিলেশন</td>\n",
       "      <td>positive</td>\n",
       "    </tr>\n",
       "    <tr>\n",
       "      <th>4</th>\n",
       "      <td>মজা পাইছি ভাষা গুলো কেমন লাগলো</td>\n",
       "      <td>positive</td>\n",
       "    </tr>\n",
       "  </tbody>\n",
       "</table>\n",
       "</div>"
      ],
      "text/plain": [
       "                                                text     label\n",
       "0                    অসাধারণ নিশো বস্ আর অমি ভাইকেও।  positive\n",
       "1                               আমার দেখা বেস্ট নাটক  positive\n",
       "2  নাটক টা অনেক সুন্দর হয়েছে,,,,আফরান নিশো ভাইয়...  positive\n",
       "3                          সত্যি অসাধারণ একটি রিলেশন  positive\n",
       "4                     মজা পাইছি ভাষা গুলো কেমন লাগলো  positive"
      ]
     },
     "execution_count": 4,
     "metadata": {},
     "output_type": "execute_result"
    }
   ],
   "source": [
    "positive_df[\"label\"] = \"positive\"\n",
    "positive_df.head()\n"
   ]
  },
  {
   "cell_type": "code",
   "execution_count": 5,
   "metadata": {},
   "outputs": [
    {
     "name": "stdout",
     "output_type": "stream",
     "text": [
      "Number of dramas: 3058\n",
      "Most frequently mentioned dramas:\n",
      "ফালতু নাটক         100\n",
      "বালের নাটক          53\n",
      "ফালতু একটা নাটক     23\n",
      "বাজে নাটক           13\n",
      "ফালতু নাটক।          7\n",
      "Name: text, dtype: int64\n"
     ]
    }
   ],
   "source": [
    "# Read the text file into a list of lines \n",
    "with open(\"all_negative_3307.txt\", encoding=\"utf-8\") as f:\n",
    "    lines = f.readlines()\n",
    "\n",
    "# Create a DataFrame from the list of lines\n",
    "negative_df = pd.DataFrame(lines, columns=[\"text\"])  \n",
    "\n",
    "# Remove leading and trailing whitespace from each line\n",
    "negative_df[\"text\"] = negative_df[\"text\"].str.strip()\n",
    "\n",
    "# 1. Counting the number of dramas\n",
    "number_of_dramas = negative_df[\"text\"].nunique()\n",
    "print(\"Number of dramas:\", number_of_dramas)\n",
    "\n",
    "# 2. Identifying the most frequently mentioned dramas\n",
    "drama_counts = negative_df[\"text\"].value_counts()\n",
    "print(\"Most frequently mentioned dramas:\")\n",
    "print(drama_counts.head())"
   ]
  },
  {
   "cell_type": "code",
   "execution_count": 6,
   "metadata": {},
   "outputs": [
    {
     "data": {
      "text/html": [
       "<div>\n",
       "<style scoped>\n",
       "    .dataframe tbody tr th:only-of-type {\n",
       "        vertical-align: middle;\n",
       "    }\n",
       "\n",
       "    .dataframe tbody tr th {\n",
       "        vertical-align: top;\n",
       "    }\n",
       "\n",
       "    .dataframe thead th {\n",
       "        text-align: right;\n",
       "    }\n",
       "</style>\n",
       "<table border=\"1\" class=\"dataframe\">\n",
       "  <thead>\n",
       "    <tr style=\"text-align: right;\">\n",
       "      <th></th>\n",
       "      <th>text</th>\n",
       "    </tr>\n",
       "  </thead>\n",
       "  <tbody>\n",
       "    <tr>\n",
       "      <th>0</th>\n",
       "      <td>আমার জীবনের সবথেকে ফালতু একটা নাটক এইটা</td>\n",
       "    </tr>\n",
       "    <tr>\n",
       "      <th>1</th>\n",
       "      <td>সাধারণ মানুষ টিভি চ্যানেল গুলো ছুড়ে ফেলে দিয়ে...</td>\n",
       "    </tr>\n",
       "    <tr>\n",
       "      <th>2</th>\n",
       "      <td>স্টুডেন্ট ওরে একটা থাপ্পড় মারো</td>\n",
       "    </tr>\n",
       "    <tr>\n",
       "      <th>3</th>\n",
       "      <td>নাটকটিতে কথা থেকে মিউজিকের সাউন্ডটা বেশি হয়ে গ...</td>\n",
       "    </tr>\n",
       "    <tr>\n",
       "      <th>4</th>\n",
       "      <td>পাকনা মেয়াটা একটা বাজে</td>\n",
       "    </tr>\n",
       "  </tbody>\n",
       "</table>\n",
       "</div>"
      ],
      "text/plain": [
       "                                                text\n",
       "0            আমার জীবনের সবথেকে ফালতু একটা নাটক এইটা\n",
       "1  সাধারণ মানুষ টিভি চ্যানেল গুলো ছুড়ে ফেলে দিয়ে...\n",
       "2                    স্টুডেন্ট ওরে একটা থাপ্পড় মারো\n",
       "3  নাটকটিতে কথা থেকে মিউজিকের সাউন্ডটা বেশি হয়ে গ...\n",
       "4                             পাকনা মেয়াটা একটা বাজে"
      ]
     },
     "execution_count": 6,
     "metadata": {},
     "output_type": "execute_result"
    }
   ],
   "source": [
    "negative_df.head()"
   ]
  },
  {
   "cell_type": "code",
   "execution_count": 7,
   "metadata": {},
   "outputs": [
    {
     "data": {
      "text/html": [
       "<div>\n",
       "<style scoped>\n",
       "    .dataframe tbody tr th:only-of-type {\n",
       "        vertical-align: middle;\n",
       "    }\n",
       "\n",
       "    .dataframe tbody tr th {\n",
       "        vertical-align: top;\n",
       "    }\n",
       "\n",
       "    .dataframe thead th {\n",
       "        text-align: right;\n",
       "    }\n",
       "</style>\n",
       "<table border=\"1\" class=\"dataframe\">\n",
       "  <thead>\n",
       "    <tr style=\"text-align: right;\">\n",
       "      <th></th>\n",
       "      <th>text</th>\n",
       "      <th>label</th>\n",
       "    </tr>\n",
       "  </thead>\n",
       "  <tbody>\n",
       "    <tr>\n",
       "      <th>0</th>\n",
       "      <td>আমার জীবনের সবথেকে ফালতু একটা নাটক এইটা</td>\n",
       "      <td>negative</td>\n",
       "    </tr>\n",
       "    <tr>\n",
       "      <th>1</th>\n",
       "      <td>সাধারণ মানুষ টিভি চ্যানেল গুলো ছুড়ে ফেলে দিয়ে...</td>\n",
       "      <td>negative</td>\n",
       "    </tr>\n",
       "    <tr>\n",
       "      <th>2</th>\n",
       "      <td>স্টুডেন্ট ওরে একটা থাপ্পড় মারো</td>\n",
       "      <td>negative</td>\n",
       "    </tr>\n",
       "    <tr>\n",
       "      <th>3</th>\n",
       "      <td>নাটকটিতে কথা থেকে মিউজিকের সাউন্ডটা বেশি হয়ে গ...</td>\n",
       "      <td>negative</td>\n",
       "    </tr>\n",
       "    <tr>\n",
       "      <th>4</th>\n",
       "      <td>পাকনা মেয়াটা একটা বাজে</td>\n",
       "      <td>negative</td>\n",
       "    </tr>\n",
       "  </tbody>\n",
       "</table>\n",
       "</div>"
      ],
      "text/plain": [
       "                                                text     label\n",
       "0            আমার জীবনের সবথেকে ফালতু একটা নাটক এইটা  negative\n",
       "1  সাধারণ মানুষ টিভি চ্যানেল গুলো ছুড়ে ফেলে দিয়ে...  negative\n",
       "2                    স্টুডেন্ট ওরে একটা থাপ্পড় মারো  negative\n",
       "3  নাটকটিতে কথা থেকে মিউজিকের সাউন্ডটা বেশি হয়ে গ...  negative\n",
       "4                             পাকনা মেয়াটা একটা বাজে  negative"
      ]
     },
     "execution_count": 7,
     "metadata": {},
     "output_type": "execute_result"
    }
   ],
   "source": [
    "negative_df['label']=\"negative\"\n",
    "negative_df.head()"
   ]
  },
  {
   "cell_type": "code",
   "execution_count": 8,
   "metadata": {},
   "outputs": [],
   "source": [
    "df = pd.concat([positive_df, negative_df], ignore_index=True)"
   ]
  },
  {
   "cell_type": "code",
   "execution_count": 9,
   "metadata": {},
   "outputs": [
    {
     "data": {
      "text/html": [
       "<div>\n",
       "<style scoped>\n",
       "    .dataframe tbody tr th:only-of-type {\n",
       "        vertical-align: middle;\n",
       "    }\n",
       "\n",
       "    .dataframe tbody tr th {\n",
       "        vertical-align: top;\n",
       "    }\n",
       "\n",
       "    .dataframe thead th {\n",
       "        text-align: right;\n",
       "    }\n",
       "</style>\n",
       "<table border=\"1\" class=\"dataframe\">\n",
       "  <thead>\n",
       "    <tr style=\"text-align: right;\">\n",
       "      <th></th>\n",
       "      <th>text</th>\n",
       "      <th>label</th>\n",
       "    </tr>\n",
       "  </thead>\n",
       "  <tbody>\n",
       "    <tr>\n",
       "      <th>0</th>\n",
       "      <td>অসাধারণ নিশো বস্ আর অমি ভাইকেও।</td>\n",
       "      <td>positive</td>\n",
       "    </tr>\n",
       "    <tr>\n",
       "      <th>1</th>\n",
       "      <td>আমার দেখা বেস্ট নাটক</td>\n",
       "      <td>positive</td>\n",
       "    </tr>\n",
       "    <tr>\n",
       "      <th>2</th>\n",
       "      <td>নাটক টা অনেক সুন্দর হয়েছে,,,,আফরান নিশো ভাইয়...</td>\n",
       "      <td>positive</td>\n",
       "    </tr>\n",
       "    <tr>\n",
       "      <th>3</th>\n",
       "      <td>সত্যি অসাধারণ একটি রিলেশন</td>\n",
       "      <td>positive</td>\n",
       "    </tr>\n",
       "    <tr>\n",
       "      <th>4</th>\n",
       "      <td>মজা পাইছি ভাষা গুলো কেমন লাগলো</td>\n",
       "      <td>positive</td>\n",
       "    </tr>\n",
       "  </tbody>\n",
       "</table>\n",
       "</div>"
      ],
      "text/plain": [
       "                                                text     label\n",
       "0                    অসাধারণ নিশো বস্ আর অমি ভাইকেও।  positive\n",
       "1                               আমার দেখা বেস্ট নাটক  positive\n",
       "2  নাটক টা অনেক সুন্দর হয়েছে,,,,আফরান নিশো ভাইয়...  positive\n",
       "3                          সত্যি অসাধারণ একটি রিলেশন  positive\n",
       "4                     মজা পাইছি ভাষা গুলো কেমন লাগলো  positive"
      ]
     },
     "execution_count": 9,
     "metadata": {},
     "output_type": "execute_result"
    }
   ],
   "source": [
    "df.head()"
   ]
  },
  {
   "cell_type": "code",
   "execution_count": 10,
   "metadata": {},
   "outputs": [],
   "source": [
    "# Save DataFrame to CSV\n",
    "df.to_csv('dataset.csv', index=False)"
   ]
  },
  {
   "cell_type": "code",
   "execution_count": 11,
   "metadata": {},
   "outputs": [
    {
     "name": "stderr",
     "output_type": "stream",
     "text": [
      "[nltk_data] Downloading package punkt to\n",
      "[nltk_data]     C:\\Users\\dell\\AppData\\Roaming\\nltk_data...\n",
      "[nltk_data]   Package punkt is already up-to-date!\n",
      "[nltk_data] Downloading package stopwords to\n",
      "[nltk_data]     C:\\Users\\dell\\AppData\\Roaming\\nltk_data...\n",
      "[nltk_data]   Package stopwords is already up-to-date!\n"
     ]
    },
    {
     "data": {
      "text/plain": [
       "True"
      ]
     },
     "execution_count": 11,
     "metadata": {},
     "output_type": "execute_result"
    }
   ],
   "source": [
    "\n",
    "# Download necessary NLTK data\n",
    "nltk.download('punkt')\n",
    "nltk.download('stopwords')\n",
    "\n"
   ]
  },
  {
   "cell_type": "code",
   "execution_count": 12,
   "metadata": {},
   "outputs": [],
   "source": [
    "def preprocess_text(text):\n",
    "    \n",
    "    # Remove non-alphabetic characters\n",
    "    text = \"\".join([char for char in text if char.isalpha() or char.isspace()])\n",
    "\n",
    "    # Remove extra whitespace\n",
    "    text = text.strip()\n",
    "\n",
    "    # Load Bengali stopwords\n",
    "    stop_words = stopwords.words(\"bengali\")\n",
    "    \n",
    "    # Tokenize the text and remove stop words\n",
    "    text = \" \".join([word for word in word_tokenize(text) if word not in stop_words])\n",
    "    \n",
    "    return text\n",
    "\n",
    "df[\"text\"] = df[\"text\"].apply(preprocess_text)"
   ]
  },
  {
   "cell_type": "code",
   "execution_count": 13,
   "metadata": {},
   "outputs": [],
   "source": [
    "label_encoder = LabelEncoder()\n",
    "df['label'] = label_encoder.fit_transform(df['label']) # positive -> 1, negative -> 0"
   ]
  },
  {
   "cell_type": "code",
   "execution_count": 14,
   "metadata": {},
   "outputs": [],
   "source": [
    "from sklearn.feature_extraction.text import TfidfVectorizer\n",
    "\n",
    "# Initialize TF-IDF Vectorizer\n",
    "vectorizer = TfidfVectorizer()\n",
    "X = vectorizer.fit_transform(df['text'])\n",
    "\n",
    "# Extract labels\n",
    "y = df['label']"
   ]
  },
  {
   "cell_type": "code",
   "execution_count": 15,
   "metadata": {},
   "outputs": [
    {
     "data": {
      "text/plain": [
       "<11807x13740 sparse matrix of type '<class 'numpy.float64'>'\n",
       "\twith 113827 stored elements in Compressed Sparse Row format>"
      ]
     },
     "execution_count": 15,
     "metadata": {},
     "output_type": "execute_result"
    }
   ],
   "source": [
    "X"
   ]
  },
  {
   "cell_type": "code",
   "execution_count": 16,
   "metadata": {},
   "outputs": [
    {
     "data": {
      "text/plain": [
       "1    8500\n",
       "0    3307\n",
       "Name: label, dtype: int64"
      ]
     },
     "execution_count": 16,
     "metadata": {},
     "output_type": "execute_result"
    }
   ],
   "source": [
    "y.value_counts()"
   ]
  },
  {
   "cell_type": "code",
   "execution_count": 17,
   "metadata": {},
   "outputs": [],
   "source": [
    "\n",
    "X_train, X_test, y_train, y_test = train_test_split(X, y, test_size=0.2, random_state=42)"
   ]
  },
  {
   "cell_type": "markdown",
   "metadata": {},
   "source": [
    "# PASSIVE AGGRESSIVE CLASSIFIER"
   ]
  },
  {
   "cell_type": "code",
   "execution_count": 18,
   "metadata": {},
   "outputs": [
    {
     "name": "stdout",
     "output_type": "stream",
     "text": [
      "Accuracy: 0.9208298052497883\n",
      "Classification Report:\n",
      "              precision    recall  f1-score   support\n",
      "\n",
      "           0       0.86      0.85      0.85       649\n",
      "           1       0.94      0.95      0.95      1713\n",
      "\n",
      "    accuracy                           0.92      2362\n",
      "   macro avg       0.90      0.90      0.90      2362\n",
      "weighted avg       0.92      0.92      0.92      2362\n",
      "\n"
     ]
    }
   ],
   "source": [
    "from sklearn.metrics import accuracy_score, classification_report\n",
    "\n",
    "# Initialize and train the model\n",
    "PAC = PassiveAggressiveClassifier(max_iter=50)\n",
    "\n",
    "# Make Predictions\n",
    "PAC.fit(X_train, y_train)\n",
    "y_pred = PAC.predict(X_test)\n",
    "\n",
    "# Evaluate the model\n",
    "print(f'Accuracy: {accuracy_score(y_test, y_pred)}')\n",
    "print(f'Classification Report:\\n{classification_report(y_test, y_pred)}')"
   ]
  },
  {
   "cell_type": "code",
   "execution_count": 19,
   "metadata": {},
   "outputs": [
    {
     "name": "stdout",
     "output_type": "stream",
     "text": [
      "Classification Report:\n",
      "              precision    recall  f1-score   support\n",
      "\n",
      "           0       0.86      0.85      0.85       649\n",
      "           1       0.94      0.95      0.95      1713\n",
      "\n",
      "    accuracy                           0.92      2362\n",
      "   macro avg       0.90      0.90      0.90      2362\n",
      "weighted avg       0.92      0.92      0.92      2362\n",
      "\n"
     ]
    }
   ],
   "source": [
    "from sklearn.metrics import classification_report, confusion_matrix, accuracy_score\n",
    "\n",
    "print(f'Classification Report:\\n{classification_report(y_test,y_pred)}')"
   ]
  },
  {
   "cell_type": "code",
   "execution_count": 20,
   "metadata": {},
   "outputs": [
    {
     "data": {
      "text/plain": [
       "array([[ 550,   99],\n",
       "       [  88, 1625]], dtype=int64)"
      ]
     },
     "execution_count": 20,
     "metadata": {},
     "output_type": "execute_result"
    }
   ],
   "source": [
    "confusion_m=confusion_matrix(y_test,y_pred)\n",
    "confusion_m\n"
   ]
  },
  {
   "cell_type": "code",
   "execution_count": 21,
   "metadata": {},
   "outputs": [
    {
     "data": {
      "text/plain": [
       "<AxesSubplot:>"
      ]
     },
     "execution_count": 21,
     "metadata": {},
     "output_type": "execute_result"
    },
    {
     "data": {
      "image/png": "[encoded data removed]",
      "text/plain": [
       "<Figure size 640x480 with 2 Axes>"
      ]
     },
     "metadata": {},
     "output_type": "display_data"
    }
   ],
   "source": [
    "x_axis_labels = ['Negative', 'Positive']\n",
    "y_axis_labels = ['Negative', 'Positive']\n",
    "\n",
    "\n",
    "sns.heatmap(confusion_m, annot=True, cmap='Greens',  xticklabels=x_axis_labels, yticklabels=y_axis_labels)\n"
   ]
  },
  {
   "cell_type": "code",
   "execution_count": 22,
   "metadata": {},
   "outputs": [],
   "source": [
    "import joblib  # Add this line to import joblib\n",
    "\n",
    "# Save the model and vectorizer\n",
    "joblib.dump(PAC, 'Bangla_Drama_Comment_Analysis_PassiveAggressiveClasifier.pkl')\n",
    "joblib.dump(vectorizer, 'tfidf_vectorizer.pkl')\n",
    "\n",
    "# To load the model and vectorizer\n",
    "model = joblib.load('Bangla_Drama_Comment_Analysis_PassiveAggressiveClasifier.pkl')\n",
    "vectorizer = joblib.load('tfidf_vectorizer.pkl')\n",
    "\n"
   ]
  },
  {
   "cell_type": "code",
   "execution_count": 23,
   "metadata": {},
   "outputs": [
    {
     "name": "stdout",
     "output_type": "stream",
     "text": [
      "Prediction: 0\n"
     ]
    }
   ],
   "source": [
    "# positive -> 1, negative -> 0\n",
    "def predict_comment(comment):\n",
    "    processed_comment = preprocess_text(comment)\n",
    "    features = vectorizer.transform([processed_comment])\n",
    "    prediction = PAC.predict(features)\n",
    "    return prediction[0]\n",
    "\n",
    "# Example\n",
    "new_comment = \" স্টুডেন্ট মেয়েটা নাটকটাকে বিরক্তিকর  বানিয়েছে..\"\n",
    "print(f'Prediction: {predict_comment(new_comment)}')"
   ]
  },
  {
   "cell_type": "code",
   "execution_count": 24,
   "metadata": {},
   "outputs": [
    {
     "name": "stdout",
     "output_type": "stream",
     "text": [
      "Prediction: 1\n"
     ]
    }
   ],
   "source": [
    "# positive -> 1, negative -> 0\n",
    "def predict_comment(comment):\n",
    "    processed_comment = preprocess_text(comment)\n",
    "    features = vectorizer.transform([processed_comment])\n",
    "    prediction = PAC.predict(features)\n",
    "    return prediction[0]\n",
    "\n",
    "# Example\n",
    "new_comment = \" স্টুডেন্ট মেয়েটা নাটকটাকে ভাল বানিয়েছে..\"\n",
    "print(f'Prediction: {predict_comment(new_comment)}')"
   ]
  },
  {
   "cell_type": "code",
   "execution_count": null,
   "metadata": {},
   "outputs": [],
   "source": []
  }
 ],
 "metadata": {
  "kernelspec": {
   "display_name": "Python 3 (ipykernel)",
   "language": "python",
   "name": "python3"
  },
  "language_info": {
   "codemirror_mode": {
    "name": "ipython",
    "version": 3
   },
   "file_extension": ".py",
   "mimetype": "text/x-python",
   "name": "python",
   "nbconvert_exporter": "python",
   "pygments_lexer": "ipython3",
   "version": "3.9.13"
  }
 },
 "nbformat": 4,
 "nbformat_minor": 2
}
